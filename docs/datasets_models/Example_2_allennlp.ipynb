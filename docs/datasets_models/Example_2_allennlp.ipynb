{
 "cells": [
  {
   "cell_type": "markdown",
   "metadata": {
    "colab_type": "text",
    "id": "JPVBc5ndpFIX"
   },
   "source": [
    "# TextAttack & AllenNLP \n",
    "\n",
    "This is an example of testing adversarial attacks from TextAttack on pretrained models provided by AllenNLP. \n",
    "\n",
    "In a few lines of code, we load a sentiment analysis model trained on the Stanford Sentiment Treebank and configure it with a TextAttack model wrapper. Then, we initialize the TextBugger attack and run the attack on a few samples from the SST-2 train set.\n",
    "\n",
    "For more information on AllenNLP pre-trained models: https://docs.allennlp.org/v1.0.0rc3/tutorials/getting_started/using_pretrained_models/\n",
    "\n",
    "For more information about the TextBugger attack: https://arxiv.org/abs/1812.05271"
   ]
  },
  {
   "cell_type": "markdown",
   "metadata": {
    "colab_type": "text",
    "id": "AyPMGcz0qLfK"
   },
   "source": [
    "<table class=\"ta-notebook-buttons\" align=\"left\">\n",
    "  <td>\n",
    "    <a target=\"_blank\" href=\"https://colab.research.google.com/drive/1Inpcc6AymahreBRkOpyQJd3sqOJagtNR?usp=sharing\"><img src=\"https://www.tensorflow.org/images/colab_logo_32px.png\" />Run in Google Colab</a>\n",
    "  </td>\n",
    "  <td>\n",
    "    <a target=\"_blank\" href=\"https://github.com/QData/TextAttack/blob/master/docs/datasets_models/Example_2_allennlp.ipynb\"><img src=\"https://www.tensorflow.org/images/GitHub-Mark-32px.png\" />View source on GitHub</a>\n",
    "  </td>\n",
    "</table>"
   ]
  },
  {
   "cell_type": "code",
   "execution_count": null,
   "metadata": {
    "colab": {},
    "colab_type": "code",
    "id": "gNhZmYq-ek-2"
   },
   "outputs": [],
   "source": [
    "!pip install allennlp allennlp_models textattack"
   ]
  },
  {
   "cell_type": "code",
   "execution_count": null,
   "metadata": {
    "colab": {},
    "colab_type": "code",
    "id": "RzOEn-6Shfxu"
   },
   "outputs": [],
   "source": [
    "!pip install nlp pyarrow transformers --upgrade"
   ]
  },
  {
   "cell_type": "code",
   "execution_count": null,
   "metadata": {
    "colab": {},
    "colab_type": "code",
    "id": "_br6Xvsif9SA"
   },
   "outputs": [],
   "source": [
    "from allennlp.predictors import Predictor\n",
    "import allennlp_models.classification\n",
    "\n",
    "import textattack\n",
    "\n",
    "class AllenNLPModel(textattack.models.wrappers.ModelWrapper):\n",
    "    def __init__(self):\n",
    "        self.predictor = Predictor.from_path(\"https://storage.googleapis.com/allennlp-public-models/basic_stanford_sentiment_treebank-2020.06.09.tar.gz\")\n",
    "\n",
    "    def __call__(self, text_input_list):\n",
    "        outputs = []\n",
    "        for text_input in text_input_list:\n",
    "        outputs.append(self.predictor.predict(sentence=text_input))\n",
    "        # For each output, outputs['logits'] contains the logits where\n",
    "        # index 0 corresponds to the positive and index 1 corresponds \n",
    "        # to the negative score. We reverse the outputs (by reverse slicing,\n",
    "        # [::-1]) so that negative comes first and positive comes second.\n",
    "        return [output['logits'][::-1] for output in outputs]\n",
    "\n",
    "model_wrapper = AllenNLPModel()"
   ]
  },
  {
   "cell_type": "code",
   "execution_count": null,
   "metadata": {
    "colab": {},
    "colab_type": "code",
    "id": "_vt74Gd2hqA6"
   },
   "outputs": [],
   "source": [
    "from textattack.datasets import HuggingFaceNlpDataset\n",
    "from textattack.attack_recipes import TextBuggerLi2018\n",
    "\n",
    "dataset = HuggingFaceNlpDataset(\"glue\", \"sst2\", \"train\")\n",
    "attack = TextBuggerLi2018(model_wrapper)\n",
    "\n",
    "results = list(attack.attack_dataset(dataset, indices=range(20)))\n",
    "for idx, result in enumerate(results):\n",
    "    print(f'Result {idx}:')\n",
    "    print(result.__str__(color_method='ansi'))\n",
    "    print('\\n\\n')\n",
    "print()"
   ]
  }
 ],
 "metadata": {
  "colab": {
   "collapsed_sections": [],
   "name": "[TextAttack] Model Example: AllenNLP",
   "provenance": []
  },
  "kernelspec": {
   "display_name": "Python 3",
   "language": "python",
   "name": "python3"
  },
  "language_info": {
   "codemirror_mode": {
    "name": "ipython",
    "version": 3
   },
   "file_extension": ".py",
   "mimetype": "text/x-python",
   "name": "python",
   "nbconvert_exporter": "python",
   "pygments_lexer": "ipython3",
   "version": "3.7.6"
  }
 },
 "nbformat": 4,
 "nbformat_minor": 1
}
